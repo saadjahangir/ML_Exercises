{
  "nbformat": 4,
  "nbformat_minor": 0,
  "metadata": {
    "colab": {
      "name": "IRIS_classifier.ipynb",
      "provenance": [],
      "authorship_tag": "ABX9TyOI8VUBL8yYnA9k2NR9HtRT",
      "include_colab_link": true
    },
    "kernelspec": {
      "name": "python3",
      "display_name": "Python 3"
    }
  },
  "cells": [
    {
      "cell_type": "markdown",
      "metadata": {
        "id": "view-in-github",
        "colab_type": "text"
      },
      "source": [
        "<a href=\"https://colab.research.google.com/github/saadjahangir/ML_Exercises/blob/master/IRIS_classifier.ipynb\" target=\"_parent\"><img src=\"https://colab.research.google.com/assets/colab-badge.svg\" alt=\"Open In Colab\"/></a>"
      ]
    },
    {
      "cell_type": "code",
      "metadata": {
        "id": "fnKKxlY0rnUS",
        "colab_type": "code",
        "colab": {}
      },
      "source": [
        "import pandas as pd\n",
        "from sklearn.model_selection import train_test_split\n",
        "import numpy as np\n",
        "df = pd.read_csv('https://archive.ics.uci.edu/ml/machine-learning-databases/iris/iris.data', header=None)\n",
        "x = df.iloc[:, [0,1,2,3]].values\n",
        "y = df.iloc[:,4].values\n",
        "y[y =='Iris-setosa'] = 0\n",
        "y[y =='Iris-versicolor'] = 1\n",
        "y[y =='Iris-virginica'] = 2\n",
        "from keras.utils.np_utils import to_categorical\n",
        "y = to_categorical(y)\n",
        "# print(x)\n",
        "# print(y)\n",
        "from keras import models\n",
        "from keras import layers\n",
        "# bulid the network\n",
        "network = models.Sequential()\n",
        "network.add(layers.Dense(units=128,activation=\"relu\",input_shape=(4,)))\n",
        "network.add(layers.Dense(units=3,activation=\"softmax\"))\n",
        "network.compile(optimizer=\"rmsprop\",loss=\"categorical_crossentropy\",metrics=[\"accuracy\"])\n",
        "network.summary()\n",
        "train_x, test_x, train_y, test_y = train_test_split(x,y,test_size=0.2,shuffle=True)\n",
        "## fit the network\n",
        "network.fit(train_x,train_y,epochs=10,batch_size=64)\n",
        "test_loss,test_acc = network.evaluate(test_x,test_y)\n",
        "predict_y = network.predict(test_x)\n",
        "predict_y = np.argmax(predict_y,axis=1)\n",
        "real_y = np.argmax(test_y,axis=1)\n",
        "print(predict_y)\n",
        "print(real_y)"
      ],
      "execution_count": null,
      "outputs": []
    }
  ]
}